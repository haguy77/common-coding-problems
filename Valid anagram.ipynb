{
 "cells": [
  {
   "cell_type": "code",
   "execution_count": 11,
   "id": "9c02c182",
   "metadata": {},
   "outputs": [],
   "source": [
    "def are_anagrams(s1, s2):\n",
    "    if len(s1) != len(s2):\n",
    "        return False\n",
    "    freq1 = {x: s1.count(x) for x in s1}\n",
    "    freq2 = {x: s2.count(x) for x in s2}\n",
    "    return freq1 == freq2"
   ]
  },
  {
   "cell_type": "code",
   "execution_count": 16,
   "id": "4512fec8",
   "metadata": {
    "scrolled": false
   },
   "outputs": [
    {
     "name": "stdout",
     "output_type": "stream",
     "text": [
      "4.25 µs ± 36.4 ns per loop (mean ± std. dev. of 7 runs, 100000 loops each)\n"
     ]
    }
   ],
   "source": [
    "%%timeit\n",
    "are_anagrams(\"nameless\", \"salesmen\")"
   ]
  },
  {
   "cell_type": "code",
   "execution_count": 13,
   "id": "4d722111",
   "metadata": {},
   "outputs": [],
   "source": [
    "def better_are_anagrams(s1, s2):\n",
    "    if len(s1) != len(s2):\n",
    "        return False\n",
    "    freq1, freq2 = {}, {}\n",
    "    freq1 = {x: 1 if x not in freq1.keys() else freq1[x] + 1\n",
    "            for x in s1}\n",
    "    freq2 = {x: 1 if x not in freq2.keys() else freq2[x] + 1\n",
    "            for x in s2}\n",
    "    return freq1 == freq2"
   ]
  },
  {
   "cell_type": "code",
   "execution_count": 15,
   "id": "54e52ba4",
   "metadata": {},
   "outputs": [
    {
     "name": "stdout",
     "output_type": "stream",
     "text": [
      "3.47 µs ± 17.9 ns per loop (mean ± std. dev. of 7 runs, 100000 loops each)\n"
     ]
    }
   ],
   "source": [
    "%%timeit\n",
    "better_are_anagrams(\"nameless\", \"salesmen\")"
   ]
  }
 ],
 "metadata": {
  "kernelspec": {
   "display_name": "Python 3",
   "language": "python",
   "name": "python3"
  },
  "language_info": {
   "codemirror_mode": {
    "name": "ipython",
    "version": 3
   },
   "file_extension": ".py",
   "mimetype": "text/x-python",
   "name": "python",
   "nbconvert_exporter": "python",
   "pygments_lexer": "ipython3",
   "version": "3.8.8"
  }
 },
 "nbformat": 4,
 "nbformat_minor": 5
}
