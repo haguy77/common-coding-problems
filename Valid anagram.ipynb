{
 "cells": [
  {
   "cell_type": "code",
   "execution_count": 7,
   "id": "9c02c182",
   "metadata": {},
   "outputs": [],
   "source": [
    "def are_anagrams(s1, s2):\n",
    "    if len(s1) != len(s2):\n",
    "        return False\n",
    "    freq1 = {x: s1.count(x) for x in s1}\n",
    "    freq2 = {x: s2.count(x) for x in s2}\n",
    "    return freq1 == freq2"
   ]
  },
  {
   "cell_type": "code",
   "execution_count": 27,
   "id": "ef6970c7",
   "metadata": {
    "scrolled": false
   },
   "outputs": [
    {
     "name": "stdout",
     "output_type": "stream",
     "text": [
      "73.6 µs ± 591 ns per loop (mean ± std. dev. of 7 runs, 10000 loops each)\n"
     ]
    }
   ],
   "source": [
    "%%timeit\n",
    "are_anagrams(\"namelessnamelessnamelessnamelessnamelessnamelessnamelessnamelessnamelessnamelessnamelessnamelessnamelessnamelessnamelessnameless\",\n",
    "                         \"salesmensalesmensalesmensalesmensalesmensalesmensalesmennamelesssalesmensalesmensalesmensalesmensalesmensalesmensalesmennameless\")"
   ]
  },
  {
   "cell_type": "code",
   "execution_count": 9,
   "id": "61569d45",
   "metadata": {},
   "outputs": [],
   "source": [
    "def better_are_anagrams(s1, s2):\n",
    "    if len(s1) != len(s2):\n",
    "        return False\n",
    "    freq1, freq2 = {}, {}\n",
    "    freq1 = {x: 1 if x not in freq1.keys() else freq1[x] + 1\n",
    "            for x in s1}\n",
    "    freq2 = {x: 1 if x not in freq2.keys() else freq2[x] + 1\n",
    "            for x in s2}\n",
    "    return freq1 == freq2"
   ]
  },
  {
   "cell_type": "code",
   "execution_count": 26,
   "id": "ba17a58d",
   "metadata": {},
   "outputs": [
    {
     "name": "stdout",
     "output_type": "stream",
     "text": [
      "36.6 µs ± 159 ns per loop (mean ± std. dev. of 7 runs, 10000 loops each)\n"
     ]
    }
   ],
   "source": [
    "%%timeit\n",
    "better_are_anagrams(\"namelessnamelessnamelessnamelessnamelessnamelessnamelessnamelessnamelessnamelessnamelessnamelessnamelessnamelessnamelessnameless\",\n",
    "                         \"salesmensalesmensalesmensalesmensalesmensalesmensalesmennamelesssalesmensalesmensalesmensalesmensalesmensalesmensalesmennameless\")"
   ]
  },
  {
   "cell_type": "code",
   "execution_count": 19,
   "id": "1db47614",
   "metadata": {},
   "outputs": [],
   "source": [
    "from collections import Counter\n",
    "\n",
    "def collections_are_anagrams(s1, s2):\n",
    "    if len(s1) != len(s2):\n",
    "        return False\n",
    "    return Counter(s1) == Counter(s2)\n",
    "\n",
    "# BEST valid anagram function"
   ]
  },
  {
   "cell_type": "code",
   "execution_count": 30,
   "id": "489ab59e",
   "metadata": {},
   "outputs": [
    {
     "name": "stdout",
     "output_type": "stream",
     "text": [
      "12 µs ± 42.7 ns per loop (mean ± std. dev. of 7 runs, 100000 loops each)\n"
     ]
    }
   ],
   "source": [
    "%%timeit\n",
    "collections_are_anagrams(\"namelessnamelessnamelessnamelessnamelessnamelessnamelessnamelessnamelessnamelessnamelessnamelessnamelessnamelessnamelessnameless\",\n",
    "                         \"salesmensalesmensalesmensalesmensalesmensalesmensalesmennamelesssalesmensalesmensalesmensalesmensalesmensalesmensalesmennameless\")"
   ]
  },
  {
   "cell_type": "code",
   "execution_count": 20,
   "id": "0f72aec2",
   "metadata": {},
   "outputs": [],
   "source": [
    "def sorted_are_anagrams(s1, s2):\n",
    "    if len(s1) != len(s2):\n",
    "        return False\n",
    "    return sorted(s1) == sorted(s2)"
   ]
  },
  {
   "cell_type": "code",
   "execution_count": 29,
   "id": "99eabdca",
   "metadata": {},
   "outputs": [
    {
     "name": "stdout",
     "output_type": "stream",
     "text": [
      "14.9 µs ± 54.8 ns per loop (mean ± std. dev. of 7 runs, 100000 loops each)\n"
     ]
    }
   ],
   "source": [
    "%%timeit\n",
    "sorted_are_anagrams(\"namelessnamelessnamelessnamelessnamelessnamelessnamelessnamelessnamelessnamelessnamelessnamelessnamelessnamelessnamelessnameless\",\n",
    "                         \"salesmensalesmensalesmensalesmensalesmensalesmensalesmennamelesssalesmensalesmensalesmensalesmensalesmensalesmensalesmennameless\")"
   ]
  }
 ],
 "metadata": {
  "kernelspec": {
   "display_name": "Python 3",
   "language": "python",
   "name": "python3"
  },
  "language_info": {
   "codemirror_mode": {
    "name": "ipython",
    "version": 3
   },
   "file_extension": ".py",
   "mimetype": "text/x-python",
   "name": "python",
   "nbconvert_exporter": "python",
   "pygments_lexer": "ipython3",
   "version": "3.8.8"
  }
 },
 "nbformat": 4,
 "nbformat_minor": 5
}
