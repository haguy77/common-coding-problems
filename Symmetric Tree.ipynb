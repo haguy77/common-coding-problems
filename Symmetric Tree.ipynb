{
 "cells": [
  {
   "cell_type": "code",
   "execution_count": 5,
   "id": "f3532fed",
   "metadata": {},
   "outputs": [],
   "source": [
    "def tree_sum(root):\n",
    "    if root is None:\n",
    "        return 0\n",
    "    else:\n",
    "        left = tree_sum(root.left)\n",
    "        right = tree_sum(root.right)\n",
    "        return root.val + left + right"
   ]
  },
  {
   "cell_type": "code",
   "execution_count": 6,
   "id": "f301a0f8",
   "metadata": {},
   "outputs": [],
   "source": [
    "# TODO: add timeit test"
   ]
  },
  {
   "cell_type": "code",
   "execution_count": 7,
   "id": "a21c0a91",
   "metadata": {},
   "outputs": [],
   "source": [
    "def are_symmetric(root1, root2):\n",
    "    if root1 is None and root2 is None:\n",
    "        return True\n",
    "    elif ((root1 is None) != (root2 is None)) or root1.val != root2.val:\n",
    "        return False\n",
    "    else:\n",
    "        return are_symmetric(root1.left, root2.right) and are_symmetric(root1.right, root2.left)\n",
    "\n",
    "def is_symmetric(root):\n",
    "    if root is None:\n",
    "        return True\n",
    "    return are_symmetric(root.left, root.right)"
   ]
  },
  {
   "cell_type": "code",
   "execution_count": 8,
   "id": "c729fe74",
   "metadata": {},
   "outputs": [],
   "source": [
    "# TODO: add timeit test"
   ]
  }
 ],
 "metadata": {
  "kernelspec": {
   "display_name": "Python 3",
   "language": "python",
   "name": "python3"
  },
  "language_info": {
   "codemirror_mode": {
    "name": "ipython",
    "version": 3
   },
   "file_extension": ".py",
   "mimetype": "text/x-python",
   "name": "python",
   "nbconvert_exporter": "python",
   "pygments_lexer": "ipython3",
   "version": "3.8.8"
  }
 },
 "nbformat": 4,
 "nbformat_minor": 5
}
