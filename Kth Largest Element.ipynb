{
 "cells": [
  {
   "cell_type": "code",
   "execution_count": 3,
   "id": "ab8bc51e",
   "metadata": {},
   "outputs": [],
   "source": [
    "def kth_largest(arr, k):\n",
    "    for i in range(k - 1):\n",
    "        arr.remove(max(arr))\n",
    "    return max(arr)"
   ]
  },
  {
   "cell_type": "code",
   "execution_count": 10,
   "id": "6990fdcd",
   "metadata": {},
   "outputs": [
    {
     "name": "stdout",
     "output_type": "stream",
     "text": [
      "3.35 µs ± 29.6 ns per loop (mean ± std. dev. of 7 runs, 100000 loops each)\n"
     ]
    }
   ],
   "source": [
    "%%timeit\n",
    "arr = [4, 2, 9, 7, 5, 6, 7, 1, 3, 2, 9, 7, 5, 6, 7, 1, 3, 2, 9, 7, 5, 6, 7, 1, 3, 2, 9, 7, 5, 6, 7, 1, 3]\n",
    "k = 4\n",
    "kth_largest(arr, k)"
   ]
  },
  {
   "cell_type": "code",
   "execution_count": 5,
   "id": "660b00e1",
   "metadata": {},
   "outputs": [],
   "source": [
    "def sorted_kth_largest(arr, k):\n",
    "    n = len(arr)\n",
    "    arr.sort()\n",
    "    return arr[n - k]"
   ]
  },
  {
   "cell_type": "code",
   "execution_count": 22,
   "id": "925210e9",
   "metadata": {},
   "outputs": [
    {
     "name": "stdout",
     "output_type": "stream",
     "text": [
      "1.26 µs ± 14.1 ns per loop (mean ± std. dev. of 7 runs, 1000000 loops each)\n"
     ]
    }
   ],
   "source": [
    "%%timeit\n",
    "arr = [4, 2, 9, 7, 5, 6, 7, 1, 3, 2, 9, 7, 5, 6, 7, 1, 3, 2, 9, 7, 5, 6, 7, 1, 3, 2, 9, 7, 5, 6, 7, 1, 3]\n",
    "k = 12\n",
    "sorted_kth_largest(arr, k)"
   ]
  },
  {
   "cell_type": "code",
   "execution_count": 18,
   "id": "6ff9cceb",
   "metadata": {},
   "outputs": [],
   "source": [
    "import heapq\n",
    "\n",
    "def heap_kth_largest(arr, k):\n",
    "    arr = [-elem for elem in arr]\n",
    "    heapq.heapify(arr)\n",
    "    for i in range(k - 1):\n",
    "        heapq.heappop(arr)\n",
    "    return -heapq.heappop(arr)"
   ]
  },
  {
   "cell_type": "code",
   "execution_count": 21,
   "id": "29bf0638",
   "metadata": {},
   "outputs": [
    {
     "name": "stdout",
     "output_type": "stream",
     "text": [
      "5.29 µs ± 18.7 ns per loop (mean ± std. dev. of 7 runs, 100000 loops each)\n"
     ]
    }
   ],
   "source": [
    "%%timeit\n",
    "arr = [4, 2, 9, 7, 5, 6, 7, 1, 3, 2, 9, 7, 5, 6, 7, 1, 3, 2, 9, 7, 5, 6, 7, 1, 3, 2, 9, 7, 5, 6, 7, 1, 3]\n",
    "k = 12\n",
    "heap_kth_largest(arr, k)"
   ]
  }
 ],
 "metadata": {
  "kernelspec": {
   "display_name": "Python 3",
   "language": "python",
   "name": "python3"
  },
  "language_info": {
   "codemirror_mode": {
    "name": "ipython",
    "version": 3
   },
   "file_extension": ".py",
   "mimetype": "text/x-python",
   "name": "python",
   "nbconvert_exporter": "python",
   "pygments_lexer": "ipython3",
   "version": "3.8.8"
  }
 },
 "nbformat": 4,
 "nbformat_minor": 5
}
