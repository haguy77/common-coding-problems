{
 "cells": [
  {
   "cell_type": "code",
   "execution_count": 1,
   "id": "74822e0a",
   "metadata": {},
   "outputs": [],
   "source": [
    "def is_valid(combination):\n",
    "    stack = []\n",
    "    for par in combination:\n",
    "        if par == '(':\n",
    "            stack.append(par)\n",
    "        else:\n",
    "            if len(stack) == 0:\n",
    "                return False\n",
    "            else:\n",
    "                stack.pop()\n",
    "    return len(stack) == 0"
   ]
  },
  {
   "cell_type": "code",
   "execution_count": 12,
   "id": "cc937edf",
   "metadata": {},
   "outputs": [
    {
     "data": {
      "text/plain": [
       "True"
      ]
     },
     "execution_count": 12,
     "metadata": {},
     "output_type": "execute_result"
    }
   ],
   "source": [
    "is_valid('()()()()()()()(())()')"
   ]
  },
  {
   "cell_type": "code",
   "execution_count": 21,
   "id": "833990b0",
   "metadata": {},
   "outputs": [],
   "source": [
    "def generate(n):\n",
    "    def rec(n, diff, comb, combs):\n",
    "        if diff < 0:\n",
    "            return\n",
    "        elif n == 0:\n",
    "            if diff == 0:\n",
    "                combs.append(''.join(comb))\n",
    "        else:\n",
    "            comb.append('(')\n",
    "            rec(n - 1, diff + 1, comb, combs)\n",
    "            comb.pop()\n",
    "            comb.append(')')\n",
    "            rec(n - 1, diff - 1, comb, combs)\n",
    "            comb.pop()\n",
    "    combs = []\n",
    "    rec(2 * n, 0, [], combs)\n",
    "    return combs"
   ]
  },
  {
   "cell_type": "code",
   "execution_count": 34,
   "id": "dbf9d63e",
   "metadata": {},
   "outputs": [
    {
     "data": {
      "text/plain": [
       "['(((())))',\n",
       " '((()()))',\n",
       " '((())())',\n",
       " '((()))()',\n",
       " '(()(()))',\n",
       " '(()()())',\n",
       " '(()())()',\n",
       " '(())(())',\n",
       " '(())()()',\n",
       " '()((()))',\n",
       " '()(()())',\n",
       " '()(())()',\n",
       " '()()(())',\n",
       " '()()()()']"
      ]
     },
     "execution_count": 34,
     "metadata": {},
     "output_type": "execute_result"
    }
   ],
   "source": [
    "generate(4)"
   ]
  }
 ],
 "metadata": {
  "kernelspec": {
   "display_name": "Python 3",
   "language": "python",
   "name": "python3"
  },
  "language_info": {
   "codemirror_mode": {
    "name": "ipython",
    "version": 3
   },
   "file_extension": ".py",
   "mimetype": "text/x-python",
   "name": "python",
   "nbconvert_exporter": "python",
   "pygments_lexer": "ipython3",
   "version": "3.8.8"
  }
 },
 "nbformat": 4,
 "nbformat_minor": 5
}
