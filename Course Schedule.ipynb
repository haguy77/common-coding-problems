{
 "cells": [
  {
   "cell_type": "code",
   "execution_count": 2,
   "id": "3d70583c",
   "metadata": {},
   "outputs": [],
   "source": [
    "def dfs(graph, vertex, path, order, visited):\n",
    "    path.append(vertex)\n",
    "    for neighbor in graph[vertex]:\n",
    "        if neighbor in path:\n",
    "            return False\n",
    "        if neighbor not in visited:\n",
    "            visited.add(neighbor)\n",
    "            if not dfs(graph, neighbor, path, order, visited):\n",
    "                return False\n",
    "    path.remove(vertex)\n",
    "    order.append(vertex)\n",
    "    return True"
   ]
  },
  {
   "cell_type": "code",
   "execution_count": 4,
   "id": "b0d3e055",
   "metadata": {},
   "outputs": [],
   "source": [
    "def top_sort(graph):\n",
    "    visited = set()\n",
    "    path = []\n",
    "    order = []\n",
    "    for vertex in graph:\n",
    "        if vertex not in visited:\n",
    "            visited.add(vertex)\n",
    "            dfs(graph, vertex, path, order, visited)\n",
    "    return order[::-1]"
   ]
  },
  {
   "cell_type": "code",
   "execution_count": 7,
   "id": "75d14883",
   "metadata": {},
   "outputs": [],
   "source": [
    "def course_schedule_dfs(n, prerequisites):\n",
    "    graph = [[] for i in range(n)]\n",
    "    for pre in prerequisites:\n",
    "        graph[pre[1]].append(pre[x])\n",
    "    visited = set()\n",
    "    path = set()\n",
    "    oreder = []\n",
    "    for course in range(n):\n",
    "        if course not in visited:\n",
    "            visited.add(course)\n",
    "            if not dfs(graph, course, path, order, visited):\n",
    "                return False\n",
    "    return True\n",
    "\n",
    "# O(n + m)"
   ]
  },
  {
   "cell_type": "code",
   "execution_count": null,
   "id": "c7d76272",
   "metadata": {},
   "outputs": [],
   "source": [
    "def course_schedule_bfs(n, prerequisites):\n",
    "    graph = [[] for i in range(n)]\n",
    "    indegree = [0 for i in range(n)]\n",
    "    for pre in prerequisites:\n",
    "        graph[pre[1]].append(pre[0])\n",
    "        indegree[pre[0]] = indegree[pre[0]] + 1\n",
    "    oreder = []\n",
    "    queue = deque([i for i in range(n) if indegree[i] == 0])\n",
    "    while queue:\n",
    "        vertex = queue.popleft()\n",
    "        order.append(vertex)\n",
    "        for neighbor in graph[vertex]:\n",
    "            indegree[neighbor] = indegree[neighbor] - 1\n",
    "            if indegree[neighbor] == 0:\n",
    "                queue.append(neighbor)\n",
    "    return len(order) == n\n",
    "\n",
    "# O(n + m)"
   ]
  }
 ],
 "metadata": {
  "kernelspec": {
   "display_name": "Python 3",
   "language": "python",
   "name": "python3"
  },
  "language_info": {
   "codemirror_mode": {
    "name": "ipython",
    "version": 3
   },
   "file_extension": ".py",
   "mimetype": "text/x-python",
   "name": "python",
   "nbconvert_exporter": "python",
   "pygments_lexer": "ipython3",
   "version": "3.8.8"
  }
 },
 "nbformat": 4,
 "nbformat_minor": 5
}
