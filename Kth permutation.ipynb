{
 "cells": [
  {
   "cell_type": "code",
   "execution_count": 2,
   "id": "7eda8da4",
   "metadata": {},
   "outputs": [],
   "source": [
    "import itertools"
   ]
  },
  {
   "cell_type": "code",
   "execution_count": 30,
   "id": "290cb718",
   "metadata": {},
   "outputs": [],
   "source": [
    "def kth_permutation(n, k):\n",
    "    permutations = list(itertools.permutations(range(1, n+1)))\n",
    "    return ''.join(map(str, permutations[k-1]))\n",
    "\n",
    "# O(n * n!)"
   ]
  },
  {
   "cell_type": "code",
   "execution_count": 31,
   "id": "73443376",
   "metadata": {},
   "outputs": [
    {
     "name": "stdout",
     "output_type": "stream",
     "text": [
      "3.9 ms ± 94.4 µs per loop (mean ± std. dev. of 7 runs, 100 loops each)\n"
     ]
    }
   ],
   "source": [
    "%timeit kth_permutation(8, 30)"
   ]
  },
  {
   "cell_type": "code",
   "execution_count": 28,
   "id": "3fbf20b8",
   "metadata": {},
   "outputs": [],
   "source": [
    "def better_kth_permutation(n, k):\n",
    "    permutation = []\n",
    "    unused = list(range(1, n+1))\n",
    "    fact = [1]*(n+1)\n",
    "    for i in range(1, n+1):\n",
    "        fact[i] = i*fact[i-1]\n",
    "    k = k - 1\n",
    "    while n > 0:\n",
    "        part_length = fact[n]//n\n",
    "        i = k//part_length\n",
    "        permutation.append(unused[i])\n",
    "        unused.pop(i)\n",
    "        n = n - 1\n",
    "        k = k % part_length\n",
    "    return ''.join(map(str, permutation))\n",
    "\n",
    "# O(n^2)"
   ]
  },
  {
   "cell_type": "code",
   "execution_count": 29,
   "id": "13c827cd",
   "metadata": {},
   "outputs": [
    {
     "name": "stdout",
     "output_type": "stream",
     "text": [
      "6.48 µs ± 31.3 ns per loop (mean ± std. dev. of 7 runs, 100000 loops each)\n"
     ]
    }
   ],
   "source": [
    "%timeit better_kth_permutation(8, 30)"
   ]
  }
 ],
 "metadata": {
  "kernelspec": {
   "display_name": "Python 3",
   "language": "python",
   "name": "python3"
  },
  "language_info": {
   "codemirror_mode": {
    "name": "ipython",
    "version": 3
   },
   "file_extension": ".py",
   "mimetype": "text/x-python",
   "name": "python",
   "nbconvert_exporter": "python",
   "pygments_lexer": "ipython3",
   "version": "3.8.8"
  }
 },
 "nbformat": 4,
 "nbformat_minor": 5
}
