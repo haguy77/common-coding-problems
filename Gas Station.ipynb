{
 "cells": [
  {
   "cell_type": "code",
   "execution_count": 30,
   "id": "1d959ee6",
   "metadata": {},
   "outputs": [],
   "source": [
    "gas = [1, 5, 3, 3, 5, 3, 1, 3, 4, 5, 1, 1, 1, 1, 1, 1, 1, 1, 1, 1, 1, 1, 1, 1, 1, 1, 1, 1, 1, 1, 1, 1, 1, 1, 1, 1, 1, 1, 1, 1, 1, 1, 1, 1, 1, 1, 1, 1, 1, 1, 1, 1, 1, 1, 1, 1, 1, 1, 1, 1, 1, 1, 1, 1, 1, 1, 1, 1, 1, 1, 1, 1, 1, 1, 1, 1, 1, 1, 1, 1, 1, 1, 1, 1, 1, 1, 1, 1, 1, 1, 1, 1, 1, 1, 1, 1, 1, 1, 1, 1, 1, 1, 1, 1, 1, 1, 1, 1, 1, 1, 1, 1, 1, 1, 1, 1, 1, 1, 1, 1, 1, 1, 1, 1, 1, 1, 1, 1, 1, 1, 1, 1, 1, 1, 1, 1, 1, 1, 1, 1, 1, 1, 1, 1, 1, 1, 1, 1, 1, 1, 1, 1, 1, 1, 1, 1, 1, 1, 1, 1, 1, 1, 1, 1, 1, 1, 1, 1, 1, 1, 1, 1, 1, 1, 1, 1, 1, 1, 1, 1, 1, 1, 1, 1, 1, 1, 1, 1, 1, 1]\n",
    "cost = [5, 2, 2, 8, 2, 4, 2, 5, 1, 2, 1, 1, 1, 1, 1, 1, 1, 1, 1, 1, 1, 1, 1, 1, 1, 1, 1, 1, 1, 1, 1, 1, 1, 1, 1, 1, 1, 1, 1, 1, 1, 1, 1, 1, 1, 1, 1, 1, 1, 1, 1, 1, 1, 1, 1, 1, 1, 1, 1, 1, 1, 1, 1, 1, 1, 1, 1, 1, 1, 1, 1, 1, 1, 1, 1, 1, 1, 1, 1, 1, 1, 1, 1, 1, 1, 1, 1, 1, 1, 1, 1, 1, 1, 1, 1, 1, 1, 1, 1, 1, 1, 1, 1, 1, 1, 1, 1, 1, 1, 1, 1, 1, 1, 1, 1, 1, 1, 1, 1, 1, 1, 1, 1, 1, 1, 1, 1, 1, 1, 1, 1, 1, 1, 1, 1, 1, 1, 1, 1, 1, 1, 1, 1, 1, 1, 1, 1, 1, 1, 1, 1, 1, 1, 1, 1, 1, 1, 1, 1, 1, 1, 1, 1, 1, 1, 1, 1, 1, 1, 1, 1, 1, 1, 1, 1, 1, 1, 1, 1, 1, 1, 1, 1, 1, 1, 1, 1, 1, 1, 1]"
   ]
  },
  {
   "cell_type": "code",
   "execution_count": 17,
   "id": "6639f8ce",
   "metadata": {},
   "outputs": [],
   "source": [
    "def can_traverse(gas, cost, start):\n",
    "    n = len(gas)\n",
    "    remaining = 0\n",
    "    i = start\n",
    "    started = False\n",
    "    while i != start or not started:\n",
    "        started = True\n",
    "        remaining = remaining + gas[i] - cost[i]\n",
    "        if remaining < 0:\n",
    "            return False\n",
    "        i = (i + 1) % n # for case of last station\n",
    "    return True\n",
    "\n",
    "# O(n^2)"
   ]
  },
  {
   "cell_type": "code",
   "execution_count": 18,
   "id": "1fcf1b73",
   "metadata": {},
   "outputs": [],
   "source": [
    "def gas_station(gas, cost):\n",
    "    for i in range(len(gas)):\n",
    "        if can_traverse(gas, cost, i):\n",
    "            return i\n",
    "    return -1"
   ]
  },
  {
   "cell_type": "code",
   "execution_count": 24,
   "id": "996172c1",
   "metadata": {},
   "outputs": [
    {
     "name": "stdout",
     "output_type": "stream",
     "text": [
      "43.3 µs ± 293 ns per loop (mean ± std. dev. of 7 runs, 10000 loops each)\n"
     ]
    }
   ],
   "source": [
    "%timeit gas_station(gas, cost)"
   ]
  },
  {
   "cell_type": "code",
   "execution_count": 20,
   "id": "05ea406d",
   "metadata": {},
   "outputs": [],
   "source": [
    "def better_gas_station(gas, cost):\n",
    "    remaining = 0\n",
    "    candidate = 0\n",
    "    for i in range(len(gas)):\n",
    "        remaining = remaining + gas[i] - cost[i]\n",
    "        if remaining < 0:\n",
    "            candidate = i + 1\n",
    "            remaining = 0\n",
    "    prev_remaining = sum(gas[:candidate]) - sum(cost[:candidate])\n",
    "    if candidate == len(gas) or remaining + prev_remaining < 0:\n",
    "        return -1\n",
    "    else:\n",
    "        return candidate\n",
    "\n",
    "# O(n)"
   ]
  },
  {
   "cell_type": "code",
   "execution_count": 29,
   "id": "4251cc01",
   "metadata": {},
   "outputs": [
    {
     "name": "stdout",
     "output_type": "stream",
     "text": [
      "24.2 µs ± 205 ns per loop (mean ± std. dev. of 7 runs, 10000 loops each)\n"
     ]
    }
   ],
   "source": [
    "%timeit better_gas_station(gas, cost)"
   ]
  }
 ],
 "metadata": {
  "kernelspec": {
   "display_name": "Python 3",
   "language": "python",
   "name": "python3"
  },
  "language_info": {
   "codemirror_mode": {
    "name": "ipython",
    "version": 3
   },
   "file_extension": ".py",
   "mimetype": "text/x-python",
   "name": "python",
   "nbconvert_exporter": "python",
   "pygments_lexer": "ipython3",
   "version": "3.8.8"
  }
 },
 "nbformat": 4,
 "nbformat_minor": 5
}
