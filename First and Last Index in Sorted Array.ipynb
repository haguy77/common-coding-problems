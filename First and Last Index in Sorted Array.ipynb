{
 "cells": [
  {
   "cell_type": "code",
   "execution_count": 2,
   "id": "b727da83",
   "metadata": {},
   "outputs": [],
   "source": [
    "def first_and_last(arr, target):\n",
    "    for i in range(len(arr)):\n",
    "        if arr[i] == target:\n",
    "            start = i\n",
    "            while i+1 < len(arr) and arr[i+1] == target:\n",
    "                i = i + 1\n",
    "            return [start, i]\n",
    "    return[-1, -1]"
   ]
  },
  {
   "cell_type": "code",
   "execution_count": 19,
   "id": "a0dba814",
   "metadata": {},
   "outputs": [
    {
     "name": "stdout",
     "output_type": "stream",
     "text": [
      "3.92 µs ± 60.2 ns per loop (mean ± std. dev. of 7 runs, 100000 loops each)\n"
     ]
    }
   ],
   "source": [
    "%%timeit\n",
    "a = [2, 4, 5, 5, 5, 5, 5, 5, 5, 5, 5, 5, 5, 5, 5, 5, 5, 5, 5, 5, 5, 7, 9, 9]\n",
    "tar = 5\n",
    "first_and_last(a, tar)"
   ]
  },
  {
   "cell_type": "code",
   "execution_count": 11,
   "id": "481923a6",
   "metadata": {},
   "outputs": [],
   "source": [
    "def find_start(arr, target):\n",
    "    if arr[0] == target:\n",
    "        return 0\n",
    "    left, right = 0, len(arr)-1\n",
    "    while left <= right:\n",
    "        mid = (left + right) // 2\n",
    "        if arr[mid] == target and arr[mid-1] < target:\n",
    "            return mid\n",
    "        elif arr[mid] < target:\n",
    "            left = mid + 1\n",
    "        else:\n",
    "            right = mid - 1\n",
    "    return -1\n",
    "\n",
    "\n",
    "def find_end(arr, target):\n",
    "    if arr[-1] == target:\n",
    "        return len(arr) - 1\n",
    "    left, right = 0, len(arr)-1\n",
    "    while left <= right:\n",
    "        mid = (left + right) // 2\n",
    "        if arr[mid] == target and arr[mid+1] > target:\n",
    "            return mid\n",
    "        elif arr[mid] > target:\n",
    "            right = mid - 1\n",
    "        else:\n",
    "            left = mid + 1\n",
    "    return -1\n",
    "\n",
    "def binary_first_and_last(arr, target):\n",
    "    if len(arr) == 0 or arr[0] > target or arr[-1] < target:\n",
    "        return [-1, -1]\n",
    "    start = find_start(arr, target)\n",
    "    end = find_end(arr, target)\n",
    "    return [start, end]"
   ]
  },
  {
   "cell_type": "code",
   "execution_count": 20,
   "id": "506b90d1",
   "metadata": {},
   "outputs": [
    {
     "name": "stdout",
     "output_type": "stream",
     "text": [
      "2.53 µs ± 15.7 ns per loop (mean ± std. dev. of 7 runs, 100000 loops each)\n"
     ]
    }
   ],
   "source": [
    "%%timeit\n",
    "a = [2, 4, 5, 5, 5, 5, 5, 5, 5, 5, 5, 5, 5, 5, 5, 5, 5, 5, 5, 5, 5, 7, 9, 9]\n",
    "tar = 5\n",
    "binary_first_and_last(a, tar)"
   ]
  }
 ],
 "metadata": {
  "kernelspec": {
   "display_name": "Python 3",
   "language": "python",
   "name": "python3"
  },
  "language_info": {
   "codemirror_mode": {
    "name": "ipython",
    "version": 3
   },
   "file_extension": ".py",
   "mimetype": "text/x-python",
   "name": "python",
   "nbconvert_exporter": "python",
   "pygments_lexer": "ipython3",
   "version": "3.8.8"
  }
 },
 "nbformat": 4,
 "nbformat_minor": 5
}
